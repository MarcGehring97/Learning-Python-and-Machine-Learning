def matrix_multiplication(R):
    n = len(R)    
    M = [x[:] for x in n * [n * [None]]]
    S = [x[:] for x in n * [n * [None]]]

    ### BEGIN SOLUTION
    r = [x[0] for x in R.values()] + [list(R.values())[-1][1]]
    for i in range(n):
        M[i][i] = 0
        S[i][i] = list(R)[i]

    

    return M

R = {'A':(10,1),'B':(1,10),'C':(10,1)}

print(matrix_multiplication(R))