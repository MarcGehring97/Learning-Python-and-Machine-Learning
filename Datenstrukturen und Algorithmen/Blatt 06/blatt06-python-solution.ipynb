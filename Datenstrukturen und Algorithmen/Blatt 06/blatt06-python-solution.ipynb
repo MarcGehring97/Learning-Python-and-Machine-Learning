{
 "cells": [
  {
   "cell_type": "markdown",
   "metadata": {},
   "source": [
    "# Datenstrukturen und Algorithmen\n",
    "\n",
    "## Praktische Aufgabe 3\n",
    "\n",
    "In dieser praktischen Aufgabe werden Sie sich mit binären Suchbäumen (BST = binary search tree) beschäftigen. Zunächst implementieren Sie die aus der Vorlesung bekannte Funktion `insert()`, die jetzt neben einem Schlüssel auch einen Wert im Binärbaum (BT = binary tree) abspeichert. Danach überprüfen Sie, ob ein gegebener BT auch ein BST ist und falls nicht, implementieren Sie einen einfachen Algorithmus, um jeden beliebiegen BT in einen BST mit einer vorgegebenen Baumstruktur zu überführen.\n",
    "\n",
    "Die Abgaben werden mit der `nbgrader` Erweiterung korrigiert. Das System erwartet, dass der Code zum Lösen der Aufgaben nach der `#YOUR CODE HERE` Anweisung kommt. Außerdem darf die Zellenreihenfolge nicht geändert werden. Damit Sie selbst Ihre Lösungsvorschläge validieren können, werden Ihnen Unittests zur Verfügung gestellt. Beachten Sie, dass diese Tests keine Garantie sind für das Erreichen der vollen Punktzahl, da Sie nur einen Teil der Funktionalität überprüfen.\n",
    "\n",
    "Wichtig: Füllen Sie zunächst die erste Zelle mit `#YOUR ANSWER HERE` unter dem Titel `Abgabeteam` mit ihren Namen und Matrikelnummern vollständig aus. Dies ermöglicht uns auch bei technischen Problemen die Abgaben eindeutig zuordnen zu können. Ändern Sie außerdem nicht den Namen der Datei. \n",
    "\n",
    "Zusammenfassung der Aufgaben:\n",
    "\n",
    "1. **Binäre Suchbäume** - insgesamt: 20 Punkte\n",
    "   - insert() - 4P.\n",
    "   - is_bin_search_tree() - 6P.\n",
    "   - bin_tree_2_list() - 3P.\n",
    "   - list_2_bin_tree() - 3P.\n",
    "   - bin_tree_2_bin_search_tree() - 4P.\n"
   ]
  },
  {
   "cell_type": "markdown",
   "metadata": {
    "nbgrader": {
     "grade": true,
     "grade_id": "cell-7cf23d3c77998e55",
     "locked": false,
     "points": 0,
     "schema_version": 3,
     "solution": true,
     "task": false
    }
   },
   "source": [
    "## Abgabeteam\n",
    "Bitte füllen Sie die untenstehende Zelle aus mit \n",
    "\n",
    "Nummer des Tutoriums,\n",
    "\n",
    "Voranme Nachname Matrikelnummer 1,\n",
    "\n",
    "Vorname Nachname Matrikelnummer 2,\n",
    "\n",
    "(Vorname Nachname Matrikelnummer 3)"
   ]
  },
  {
   "cell_type": "markdown",
   "metadata": {},
   "source": [
    "Tutorium Musterlösung\n",
    "\n",
    "Max Mustermann 123456\n",
    "\n",
    "Erika Mustermann 123457\n",
    "\n",
    "(Paul Mustermann 123458)"
   ]
  },
  {
   "cell_type": "markdown",
   "metadata": {},
   "source": [
    "## Module importieren\n",
    "\n",
    "Als erstes importieren wir die verwendeten Module. Sie dürfen keine weiteren Python Module importieren oder verwenden, als die hier spezifizierten Module.\n",
    "\n",
    "Falls Sie eine Entwicklungsumgebung, wie Google Colab oder Deepnote verwendeen und bestimmte Module nicht verfügbar sind, kommentieren Sie die erste Zeile aus, um die Module in der Laufzeitumgebung temporär zu installieren."
   ]
  },
  {
   "cell_type": "code",
   "execution_count": 49,
   "metadata": {},
   "outputs": [],
   "source": [
    "#!pip install nose\n",
    "\n",
    "from nose.tools import assert_equal"
   ]
  },
  {
   "cell_type": "markdown",
   "metadata": {},
   "source": [
    "# Binäre Suchbäume\n",
    "\n",
    "Im folgenden werden Sie einen BST implementieren, der sowohl ein Attribut `key`, als auch `value` besitzt. Dabei wird die Sortierung der Blätter über den Schlüssel `key` bestimmt, während das eigentliche Element in `value` gespeichert wird. Dadurch können wir verschiedene Elemente nach einem beliebigen Schlüssel im Baum speichern. Der unten stehende Code definiert die Struktur von einem Node. Die Funktion `print_tree` gibt jeweils den BT als einen formattierten Output aus.\n",
    "Bitte beachten Sie, dass wir in dieser Implementierung keinen Parent-Pointer nutzen. Alle Aufgaben lassen sich auch ohne diese Referenz effizient lösen."
   ]
  },
  {
   "cell_type": "code",
   "execution_count": 50,
   "metadata": {},
   "outputs": [],
   "source": [
    "class Node:\n",
    "    def __init__(self, key, value=None, left=None, right=None):\n",
    "        self.key = key\n",
    "        self.value = value\n",
    "        self.left = left\n",
    "        self.right = right\n",
    "        \n",
    "\n",
    "    def __repr__(self):\n",
    "        return f\"({self.left}, {self.key}|{self.value}, {self.right})\"\n",
    "\n",
    "\n",
    "def print_tree(node, level=0):\n",
    "    if node is not None:\n",
    "        print_tree(node.right, level + 1)\n",
    "        print(f\"{' ' * 8 * level}->  {str(node.key)}|{str(node.value)}\")\n",
    "        print_tree(node.left, level + 1)"
   ]
  },
  {
   "cell_type": "code",
   "execution_count": 51,
   "metadata": {},
   "outputs": [
    {
     "name": "stdout",
     "output_type": "stream",
     "text": [
      "Valid BST:\n",
      "                        ->  8|cde\n",
      "                ->  7|abv\n",
      "        ->  6|234\n",
      "                ->  5|abc\n",
      "->  4|421\n",
      "                        ->  3|vwa\n",
      "                ->  3|None\n",
      "        ->  2|123\n",
      "                ->  1|asd\n",
      "(((None, 1|asd, None), 2|123, (None, 3|None, (None, 3|vwa, None))), 4|421, ((None, 5|abc, None), 6|234, (None, 7|abv, (None, 8|cde, None))))\n",
      "\n",
      "------------------\n",
      "\n",
      "Invalid BST:\n",
      "                ->  4|dnf\n",
      "                        ->  2|123\n",
      "        ->  9|agg\n",
      "->  1|421\n",
      "        ->  2|kve\n",
      "                ->  4|abc\n",
      "                        ->  0|esi\n",
      "((((None, 0|esi, None), 4|abc, None), 2|kve, None), 1|421, (None, 9|agg, ((None, 2|123, None), 4|dnf, None)))\n"
     ]
    }
   ],
   "source": [
    "print(\"Valid BST:\")\n",
    "valid_bst = Node(4, 421, Node(2, 123, Node(1, \"asd\"), Node(3, None, right=Node(3, \"vwa\"))), Node(6, 234, Node(5, \"abc\"), Node(7, \"abv\", right=Node(8, \"cde\"))))\n",
    "print_tree(valid_bst)\n",
    "print(valid_bst)\n",
    "\n",
    "print(\"\\n------------------\\n\")\n",
    "\n",
    "print(\"Invalid BST:\")\n",
    "invalid_bst = Node(1, 421, Node(2, \"kve\", Node(4, \"abc\", Node(0, \"esi\"))), Node(9, \"agg\", right=Node(4, \"dnf\", Node(2, 123))))\n",
    "print_tree(invalid_bst)\n",
    "print(invalid_bst)"
   ]
  },
  {
   "cell_type": "markdown",
   "metadata": {},
   "source": [
    "## a) insert() - 4P.\n",
    "\n",
    "Implementieren Sie die Funktion `insert()`, die `node`, `key`, sowie `value` als Parameter übergegeben bekommt. `node` ist hierbei der Elternknoten in den ein Element `value` entsprechend des Schlüssels `key` eingefügt wird. Der resultierende Baum soll dabei die Eigenschaften eines BST behalten. Orientieren sie sich an der aus der Vorlesung bekannten Funktion `insert()` und wandeln diese an den nötigen Stellen ab.\n",
    "\n",
    "Wenn zweimal der gleiche `key` eingefügt wird, dann wird einfach nur `value` ersetzt. "
   ]
  },
  {
   "cell_type": "code",
   "execution_count": 52,
   "metadata": {},
   "outputs": [],
   "source": [
    "def insert(node, key, value):\n",
    "    \"\"\" Insert a new node into a binary search tree based on `key` which holds `value`. \"\"\"\n",
    "    ### BEGIN SOLUTION\n",
    "    if node is None:\n",
    "        return Node(key, value)\n",
    "    elif key == node.key:\n",
    "       node.value = value\n",
    "       return node\n",
    "    elif key < node.key:\n",
    "        node.left = insert(node.left, key, value)\n",
    "        return node\n",
    "    else:\n",
    "        node.right = insert(node.right, key, value)\n",
    "        return node\n",
    "    ### END SOLUTION"
   ]
  },
  {
   "cell_type": "markdown",
   "metadata": {},
   "source": [
    "## a) Tests"
   ]
  },
  {
   "cell_type": "code",
   "execution_count": 53,
   "metadata": {},
   "outputs": [],
   "source": [
    "root = None \n",
    "root = insert(root, 3, 1177)\n",
    "assert_equal(str(root), \"(None, 3|1177, None)\")\n",
    "\n",
    "### BEGIN HIDDEN TESTS\n",
    "#are the correct nodes inserted, eg. is the key the key and the value the value\n",
    "root = insert(root, 4, \"Value\")\n",
    "assert_equal(str(root), \"(None, 3|1177, (None, 4|Value, None))\")\n",
    "### END HIDDEN TESTS"
   ]
  },
  {
   "cell_type": "code",
   "execution_count": 54,
   "metadata": {},
   "outputs": [],
   "source": [
    "root = None \n",
    "root = insert(root, 0, \"Value\")\n",
    "root = insert(root, 1, \"Value\")\n",
    "root = insert(root, 2, \"Value\")\n",
    "assert_equal(str(root), \"(None, 0|Value, (None, 1|Value, (None, 2|Value, None)))\")\n",
    "\n",
    "### BEGIN HIDDEN TESTS\n",
    "#is the tree a BST, so are the nodes sorted correctly, eg. is left smaller than parent and right bigger than parent\n",
    "root = None \n",
    "root = insert(root, 1, \"Value\")\n",
    "root = insert(root, 2, \"Value\")\n",
    "root = insert(root, 0, \"Value\")\n",
    "assert_equal(str(root), \"((None, 0|Value, None), 1|Value, (None, 2|Value, None))\")\n",
    "\n",
    "root = None \n",
    "root = insert(root, 2, \"Value\")\n",
    "root = insert(root, 1, \"Value\")\n",
    "root = insert(root, 0, \"Value\")\n",
    "assert_equal(str(root), \"(((None, 0|Value, None), 1|Value, None), 2|Value, None)\")\n",
    "### END HIDDEN TESTS"
   ]
  },
  {
   "cell_type": "code",
   "execution_count": 55,
   "metadata": {},
   "outputs": [],
   "source": [
    "### BEGIN HIDDEN TESTS\n",
    "#handling duplicates correctly\n",
    "root = None \n",
    "root = insert(root, 3, \"Value0\")\n",
    "root = insert(root, 9, \"Value\")\n",
    "root = insert(root, 0, \"Value\")\n",
    "root = insert(root, 1, \"Value\")\n",
    "root = insert(root, 5, \"Value1\")\n",
    "root = insert(root, -1, \"Value2\")\n",
    "root = insert(root, 0, \"Value2\")\n",
    "assert_equal(str(root), \"(((None, -1|Value2, None), 0|Value2, (None, 1|Value, None)), 3|Value0, ((None, 5|Value1, None), 9|Value, None))\")\n",
    "### END HIDDEN TESTS"
   ]
  },
  {
   "cell_type": "markdown",
   "metadata": {},
   "source": [
    "Die nächste Aufgabe besteht darin einen beliebigen BT in einen BST umzuwandeln. Dabei darf die Form des Baumes, also die Verzweigung, nicht verändert werden.\n",
    "\n",
    "Hierzu werden Sie zunächst eine Funktion implementieren, die überprüft ob ein gegebener BT auch ein BST ist. Danach implementieren Sie zwei Funktionen, die eine Inorder-Traversal über den BT durchführen und die Nodes in eine Liste schreiben bzw. Nodes aus einer Liste in einen BT überführen. Anschließend nutzen Sie diese Funktionen, sowie das Sortieren von Listen, um einen beliebigen BT in einen BST umzuwandeln und dabei die Verzweigungen des BT nicht zu verändern.\n",
    "\n",
    "Der zu implementierende Algorithmus besteht aus den folgenden Schritten:\n",
    "- Falls der BT ein BST ist:\n",
    "  - mache nichts und geben den BT zurück\n",
    "- Sonst, führe die folgenden Schritte aus:\n",
    "  - Konvertiere den BT mit Inorder-Traversal in eine Liste\n",
    "  - Sortiere die Liste nach dem Schlüssel\n",
    "  - Konvertiere die Liste mit Inoder-Traversal in einen BT"
   ]
  },
  {
   "cell_type": "markdown",
   "metadata": {},
   "source": [
    "## b) is_bin_search_tree() - 6P.\n",
    "\n",
    "Implementieren Sie die Funktion `is_bin_search_tree()`, die `node` als Parameter übergegeben bekommt und überprüft, ob es sich um den BT der durch `node` dargestellt wird, um einen BST handelt. Die Funktion soll `True` zurückgeben, falls ein BST übergegeben wurde, sonst gibt sie `False` aus.\n",
    "\n",
    "```\n",
    "Eingabe:\n",
    "Node(4, None, Node(2), Node(6))\n",
    "\n",
    "Ausgabe:\n",
    "True\n",
    "\n",
    "\n",
    "Eingabe:\n",
    "Node(3, None, Node(2,None, Node(1), Node(4)), Node(5))\n",
    "\n",
    "Ausgabe:\n",
    "False\n",
    "```"
   ]
  },
  {
   "cell_type": "code",
   "execution_count": 56,
   "metadata": {},
   "outputs": [],
   "source": [
    "def is_bin_search_tree(node):\n",
    "    \"\"\" Check if a given binary tree is a binary search tree. \"\"\"\n",
    "    ### BEGIN SOLUTION\n",
    "    # Check & update constraints (mini/maxi) for every node.\n",
    "    def is_BST(node, mini=-float('Inf'), maxi=float('Inf')):\n",
    "        # Base case: no node available, always true\n",
    "        if node is None:\n",
    "            return True\n",
    "        # Node needs to lie between local constraints (mini/maxi)\n",
    "        if node.key < mini or node.key > maxi:\n",
    "            return False\n",
    "        # Check left and right child -> tighten the constraints\n",
    "        return is_BST(node.left, mini, node.key - 1) and is_BST(node.right, node.key + 1, maxi)\n",
    "\n",
    "    return is_BST(node)\n",
    "    \n",
    "    ### Alternative Correct Solution\n",
    "    \"\"\"\n",
    "    1. Traverse BT in-order\n",
    "    2. Write keys into a list\n",
    "    3. Check if list is sorted\n",
    "    \"\"\"\n",
    "\n",
    "    ### Wrong Solution\n",
    "    \"\"\"\n",
    "    # Checks only child nodes, but missing global context.\n",
    "    # 1. Assume that every tree is a BST\n",
    "    is_bst = True\n",
    "    # 2. Check if left node exists and if is smaller (or equal) than the current node -> BST\n",
    "    if node.left is not None:\n",
    "        if node.left.key >= node.key:\n",
    "            return False                    \n",
    "        is_bst &= is_bin_search_tree(node.left)  # check left subtree, if BST\n",
    "    # 3. Check if right node exists and if is greater (or equal) than the current node -> False\n",
    "    if node.right is not None:\n",
    "        if node.right.key <= node.key:\n",
    "            return False        \n",
    "        is_bst &= is_bin_search_tree(node.right)  # check right subtree, if BST\n",
    "    # 4. Return the result\n",
    "    return is_bst\n",
    "    \"\"\"\n",
    "    ### END SOLUTION"
   ]
  },
  {
   "cell_type": "markdown",
   "metadata": {},
   "source": [
    "## b) Tests"
   ]
  },
  {
   "cell_type": "code",
   "execution_count": 57,
   "metadata": {},
   "outputs": [],
   "source": [
    "# unittests\n",
    "valid_bst = Node(4, 421, Node(2, 123, Node(1, \"asd\"), Node(3)), Node(6, 234, Node(5, \"abc\"), Node(7, \"abv\", right=Node(8, \"cde\"))))\n",
    "assert_equal(True, is_bin_search_tree(valid_bst))\n",
    "\n",
    "invalid_bst = Node(1, 421, Node(2, \"kve\", Node(4, \"abc\", Node(0, \"esi\"))), Node(9, \"agg\", right=Node(4, \"dnf\", Node(2, 123))))\n",
    "assert_equal(False, is_bin_search_tree(invalid_bst))"
   ]
  },
  {
   "cell_type": "code",
   "execution_count": 58,
   "metadata": {},
   "outputs": [],
   "source": [
    "### BEGIN HIDDEN TESTS\n",
    "#test edge cases\n",
    "#test with one node\n",
    "valid_bst = Node(10, \"val\")\n",
    "assert_equal(True, is_bin_search_tree(valid_bst))\n",
    "### END HIDDEN TESTS"
   ]
  },
  {
   "cell_type": "code",
   "execution_count": 59,
   "metadata": {},
   "outputs": [],
   "source": [
    "### BEGIN HIDDEN TESTS\n",
    "#test smallest tree that is not a bst\n",
    "invalid_bst = Node(5, \"val\", Node(7, \"val\"))\n",
    "assert_equal(False, is_bin_search_tree(invalid_bst))\n",
    "### END HIDDEN TESTS"
   ]
  },
  {
   "cell_type": "code",
   "execution_count": 60,
   "metadata": {},
   "outputs": [],
   "source": [
    "### BEGIN HIDDEN TESTS\n",
    "\"\"\" Every child holds always the BST property, but the property is validated globally. \"\"\"\n",
    "invalid_bst = Node(3, None, Node(2,None, Node(1), Node(4)), Node(5))\n",
    "assert_equal(False, is_bin_search_tree(invalid_bst))\n",
    "### END HIDDEN TESTS"
   ]
  },
  {
   "cell_type": "markdown",
   "metadata": {},
   "source": [
    "## c) bin_tree_2_list() - 3P.\n",
    "\n",
    "Implementieren Sie die Funktion `bin_tree_2_list()`, die einen BT `node` erhält und eine Liste zurückgibt. Diese Liste enthält Tupel von Schlüsseln und Werten als Elemente, die jeweils die Nodes des BT in Inorder-Traversal beschreiben.\n",
    "\n",
    "```\n",
    "Eingabe:\n",
    "Node(4, 421, Node(2, 123, Node(1, \"asd\"), Node(3, None, right=Node(3, \"vwa\"))), Node(6, 234, Node(5, \"abc\"), Node(7, \"abv\", right=Node(8, \"cde\"))))\n",
    "\n",
    "Ausgabe:\n",
    "[(1, 'asd'), (2, 123), (3, None), (3, 'vwa'), (4, 421), (5, 'abc'), (6, 234), (7, 'abv'), (8, 'cde')]\n",
    "\n",
    "\n",
    "Eingabe:\n",
    "Node(1, 421, Node(2, \"kve\", Node(4, \"abc\", Node(0, \"esi\"))), Node(9, \"agg\", right=Node(4, \"dnf\", Node(2, 123))))\n",
    "\n",
    "Ausgabe:\n",
    "[(0, 'esi'), (4, 'abc'), (2, 'kve'), (1, 421), (9, 'agg'), (2, 123), (4, 'dnf')]\n",
    "```"
   ]
  },
  {
   "cell_type": "code",
   "execution_count": 61,
   "metadata": {},
   "outputs": [],
   "source": [
    "def bin_tree_2_list(node):\n",
    "        \"\"\" Convert keys & values of a binary tree into a list. \"\"\"\n",
    "        ### BEGIN SOLUTION\n",
    "        l = []\n",
    "        if node is not None:\n",
    "            l.extend(bin_tree_2_list(node.left))\n",
    "            l.append((node.key, node.value))\n",
    "            l.extend(bin_tree_2_list(node.right))\n",
    "        return l\n",
    "        ### END SOLUTION"
   ]
  },
  {
   "cell_type": "markdown",
   "metadata": {},
   "source": [
    "## c) Tests"
   ]
  },
  {
   "cell_type": "code",
   "execution_count": 62,
   "metadata": {},
   "outputs": [],
   "source": [
    "valid_bst = Node(4, 421, Node(2, 123, Node(1, \"asd\"), Node(3, None, right=Node(3, \"vwa\"))), Node(6, 234, Node(5, \"abc\"), Node(7, \"abv\", right=Node(8, \"cde\"))))\n",
    "assert_equal([(1, 'asd'), (2, 123), (3, None), (3, 'vwa'), (4, 421), (5, 'abc'), (6, 234), (7, 'abv'), (8, 'cde')],\n",
    "             bin_tree_2_list(valid_bst))\n",
    "\n",
    "\n",
    "invalid_bst = Node(1, 421, Node(2, \"kve\", Node(4, \"abc\", Node(0, \"esi\"))), Node(9, \"agg\", right=Node(4, \"dnf\", Node(2, 123))))\n",
    "assert_equal([(0, 'esi'), (4, 'abc'), (2, 'kve'), (1, 421), (9, 'agg'), (2, 123), (4, 'dnf')],\n",
    "             bin_tree_2_list(invalid_bst))"
   ]
  },
  {
   "cell_type": "code",
   "execution_count": 63,
   "metadata": {},
   "outputs": [],
   "source": [
    "### BEGIN HIDDEN TESTS\n",
    "root = Node(1, 421, Node(2, \"kve\", Node(4, \"abc\", Node(0, \"esi\"))), Node(9, \"agg\", right=Node(4, \"dnf\", Node(2, 123))))\n",
    "assert_equal(bin_tree_2_list(root), [(0, 'esi'), (4, 'abc'), (2, 'kve'), (1, 421), (9, 'agg'), (2, 123), (4, 'dnf')])\n",
    "### END HIDDEN TESTS"
   ]
  },
  {
   "cell_type": "markdown",
   "metadata": {},
   "source": [
    "## d) list_2_bin_tree() - 3P.\n",
    "\n",
    "Implementiere Sie die Funktion `list_2_bin_tree()`, die als Parameter einen BT `node` und eine Liste `node_list` übergegeben bekommt. \n",
    "Hierbei werden die Tupel aus Schlüssel und Wert aus der Liste `node_list` mit Inorder-Traversal in den BT eingesetzt."
   ]
  },
  {
   "cell_type": "code",
   "execution_count": 64,
   "metadata": {},
   "outputs": [],
   "source": [
    "def list_2_bin_tree(node, node_list):\n",
    "        \"\"\" Convert keys & values from a list into a binary tree. \"\"\"\n",
    "        ### BEGIN SOLUTION\n",
    "        if node is not None:\n",
    "            list_2_bin_tree(node.left, node_list)\n",
    "            node.key, node.value = node_list.pop(0)\n",
    "            list_2_bin_tree(node.right, node_list)\n",
    "        ### END SOLUTION"
   ]
  },
  {
   "cell_type": "markdown",
   "metadata": {},
   "source": [
    "## d) Tests"
   ]
  },
  {
   "cell_type": "code",
   "execution_count": 65,
   "metadata": {},
   "outputs": [],
   "source": [
    "tree = Node(0, 0, Node(1, 1, Node(2, 2), Node(3, 3)), Node(4, 4, Node(5, 5), Node(6, 6, Node(7, 7))))\n",
    "list = [(1, 'asd'), (2, 123), (3, None), (3, 'vwa'), (4, 421), (5, 'abc'), (6, 234), (7, 'abv'), (8, 'cde')]\n",
    "list_2_bin_tree(tree, list)\n",
    "assert_equal(str(tree), \"(((None, 1|asd, None), 2|123, (None, 3|None, None)), 3|vwa, ((None, 4|421, None), 5|abc, ((None, 6|234, None), 7|abv, None)))\")\n",
    "\n",
    "tree = Node(0, 0, Node(1, 1, Node(2, 2, Node(3, 3, Node(4, 4, Node(5, 5, Node(6, 6)))))))\n",
    "list = [(0, 'esi'), (4, 'abc'), (2, 'kve'), (1, 421), (9, 'agg'), (2, 123), (4, 'dnf')]\n",
    "list_2_bin_tree(tree, list)\n",
    "assert_equal(str(tree), \"(((((((None, 0|esi, None), 4|abc, None), 2|kve, None), 1|421, None), 9|agg, None), 2|123, None), 4|dnf, None)\")\n",
    "### BEGIN HIDDEN TESTS\n",
    "\n",
    "### END HIDDEN TESTS"
   ]
  },
  {
   "cell_type": "markdown",
   "metadata": {},
   "source": [
    "## e) bin_tree_2_bin_search_tree() - 4P.\n",
    "\n",
    "Implementieren Sie die Funktion `bin_tree_2_bin_search_tree()`, die überprüft ob ein übergebener BT `node` auch ein BST ist und falls dies nicht der Fall ist, diesen in einen BST überführt. Hierbei soll die ursprüngliche Form (Verzweigungen) des BT erhalten bleiben. Nutzen Sie bei der Lösung dieser Aufgabe, die von Ihnen zuvor implementierten Funktionen. Sie können davon ausgehen, dass wir als Eingabe nur valide BT verwenden, die z.B. keine doppelten Nodes besitzen.\n",
    "\n",
    "Hinweis: Da der Fokus dieser Aufgabe nicht auf den Sortieralgorithmen selbst liegt, dürfen Sie Funktionen wie `sort()` oder `sorted()` in Ihrer Lösung verwenden."
   ]
  },
  {
   "cell_type": "code",
   "execution_count": 66,
   "metadata": {},
   "outputs": [],
   "source": [
    "def bin_tree_2_bin_search_tree(node):\n",
    "    \"\"\" Convert a binary tree into a binary search tree. Preserves the original structure of the binary tree. \"\"\"\n",
    "    ### BEGIN SOLUTION\n",
    "    if not is_bin_search_tree(node):\n",
    "        bin_tree_list = bin_tree_2_list(node)\n",
    "        bin_tree_list = sorted(bin_tree_list, key=lambda i: i[0])\n",
    "        list_2_bin_tree(node, bin_tree_list)\n",
    "    ### END SOLUTION"
   ]
  },
  {
   "cell_type": "markdown",
   "metadata": {},
   "source": [
    "## e) Tests"
   ]
  },
  {
   "cell_type": "code",
   "execution_count": 67,
   "metadata": {},
   "outputs": [],
   "source": [
    "invalid_bst = Node(1, 421, Node(2, \"kve\", Node(4, \"abc\", Node(0, \"esi\"))), Node(9, \"agg\", right=Node(7, \"dnf\", Node(3, 123))))\n",
    "bin_tree_2_bin_search_tree(invalid_bst)\n",
    "assert_equal(True, is_bin_search_tree((invalid_bst)))"
   ]
  },
  {
   "cell_type": "code",
   "execution_count": 68,
   "metadata": {},
   "outputs": [],
   "source": [
    "### BEGIN HIDDEN TESTS\n",
    "invalid_bst = Node(1, 421, Node(2, \"kve\", Node(3, \"abc\", Node(0, \"esi\"))), Node(9, \"agg\", right=Node(4, \"dnf\")))\n",
    "bin_tree_2_bin_search_tree(invalid_bst)\n",
    "assert_equal(str(invalid_bst), \"((((None, 0|esi, None), 1|421, None), 2|kve, None), 3|abc, (None, 4|dnf, (None, 9|agg, None)))\")\n",
    "### END HIDDEN TESTS"
   ]
  },
  {
   "cell_type": "markdown",
   "metadata": {
    "nbgrader": {
     "grade": false,
     "grade_id": "cell-1b974b740c5bee36",
     "locked": true,
     "schema_version": 3,
     "solution": false,
     "task": false
    }
   },
   "source": [
    "## Jupyter Notebook Stolperfalle\n",
    "Bei der Benutzung von Jupyter Notebooks, wird der globale Zustand aller Variablen zwischen der Ausführung von verschiedenen Zellen erhalten. Dies ist auch der Fall, wenn Zellen gelöscht oder hinzugefügt werden.\n",
    "Um sicher zu gehen, dass nicht ausversehen notwendige Variablen überschrieben oder gelöscht wurden, kann der Befehl `Kernel -> Restart & Run All` ausgeführt werden."
   ]
  }
 ],
 "metadata": {
  "interpreter": {
   "hash": "31f2aee4e71d21fbe5cf8b01ff0e069b9275f58929596ceb00d14d90e3e16cd6"
  },
  "kernelspec": {
   "display_name": "Python 3.9.2 64-bit",
   "name": "python392jvsc74a57bd031f2aee4e71d21fbe5cf8b01ff0e069b9275f58929596ceb00d14d90e3e16cd6"
  },
  "language_info": {
   "codemirror_mode": {
    "name": "ipython",
    "version": 3
   },
   "file_extension": ".py",
   "mimetype": "text/x-python",
   "name": "python",
   "nbconvert_exporter": "python",
   "pygments_lexer": "ipython3",
   "version": "3.9.2"
  },
  "metadata": {
   "interpreter": {
    "hash": "31f2aee4e71d21fbe5cf8b01ff0e069b9275f58929596ceb00d14d90e3e16cd6"
   }
  },
  "orig_nbformat": 2
 },
 "nbformat": 4,
 "nbformat_minor": 2
}