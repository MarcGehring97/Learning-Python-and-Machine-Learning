{
 "cells": [
  {
   "cell_type": "markdown",
   "metadata": {
    "nbgrader": {
     "grade": false,
     "grade_id": "cell-2e9f551376e73eb9",
     "locked": true,
     "schema_version": 3,
     "solution": false,
     "task": false
    }
   },
   "source": [
    "# Datenstrukturen und Algorithmen\n",
    "\n",
    "## Praktische Aufgabe 4\n",
    "\n",
    "In dieser praktischen Aufgabe werden Sie AVL-Bäume implementieren. Nachdem Sie sich in der letzten praktischen Aufgabe mit allgemeinen binären Suchbäumen beschäftigt haben, möchten wir und diesmal mit balancierten Bäumen beschäftigen. Die Hauptaufgabe besteht also darin einen beliebigen binären Suchbaum in einen AVL-Baum umzuwandeln. Sie werden mit Hilfe einiger Teilaufgaben auf die Lösung geführt. \n",
    "\n",
    "Die Abgaben werden mit der `nbgrader` Erweiterung korrigiert. Das System erwartet, dass der Code zum Lösen der Aufgaben nach der `#YOUR CODE HERE` Anweisung kommt. Außerdem darf die Zellenreihenfolge nicht geändert werden. Damit Sie selbst Ihre Lösungsvorschläge validieren können, werden Ihnen Unittests zur Verfügung gestellt. Beachten Sie, dass diese Tests keine Garantie sind für das Erreichen der vollen Punktzahl, da Sie nur einen Teil der Funktionalität überprüfen.\n",
    "\n",
    "Wichtig: Füllen Sie zunächst die erste Zelle mit `#YOUR ANSWER HERE` unter dem Titel `Abgabeteam` mit ihren Namen und Matrikelnummern vollständig aus. Dies ermöglicht uns auch bei technischen Problemen die Abgaben eindeutig zuordnen zu können. Ändern Sie außerdem nicht den Namen der Datei. \n",
    "\n",
    "**Übersicht der Aufgaben** (20 Punkte):\n",
    "\n",
    "1. **AVL-Tree** - insgesamt: 20 Punkte\n",
    "   - get_balance() - 2P.\n",
    "   - rotate_left() - 6P.\n",
    "   - rotate_right() - 6P.\n",
    "   - balance() - 6P.\n",
    " "
   ]
  },
  {
   "cell_type": "markdown",
   "metadata": {
    "nbgrader": {
     "grade": true,
     "grade_id": "cell-7cf23d3c77998e55",
     "locked": false,
     "points": 0,
     "schema_version": 3,
     "solution": true,
     "task": false
    }
   },
   "source": [
    "## Abgabeteam\n",
    "Bitte füllen Sie die untenstehende Zelle aus mit \n",
    "\n",
    "Nummer des Tutoriums,\n",
    "\n",
    "Voranme Nachname Matrikelnummer 1,\n",
    "\n",
    "Vorname Nachname Matrikelnummer 2,\n",
    "\n",
    "(Vorname Nachname Matrikelnummer 3)"
   ]
  },
  {
   "cell_type": "markdown",
   "metadata": {},
   "source": [
    "Tutorium Musterlösung\n",
    "\n",
    "Max Mustermann 123456\n",
    "\n",
    "Erika Mustermann 123457\n",
    "\n",
    "(Paul Mustermann 123458)"
   ]
  },
  {
   "cell_type": "markdown",
   "metadata": {
    "nbgrader": {
     "grade": false,
     "grade_id": "cell-85df1a8ff62140cc",
     "locked": true,
     "schema_version": 3,
     "solution": false,
     "task": false
    }
   },
   "source": [
    "## Module importieren\n",
    "\n",
    "Zuerst werden die benötigten Module importiert. Sie dürfen keine weiteren Module impotieren.\n",
    "\n",
    "Wenn in Ihrer Entwickungsumbegung (z.B Google Colab oder Deepnote) bestimmte Module nicht verfügbar sind, dann kommentieren Sie die erste Zeile aus um die Module in der Umgebung zu installieren."
   ]
  },
  {
   "cell_type": "code",
   "execution_count": 71,
   "metadata": {
    "nbgrader": {
     "grade": false,
     "grade_id": "cell-859a494f7ea8e097",
     "locked": true,
     "schema_version": 3,
     "solution": false,
     "task": false
    }
   },
   "outputs": [],
   "source": [
    "#!pip install nose\n",
    "from nose.tools import assert_equal\n",
    "from random import randint"
   ]
  },
  {
   "cell_type": "markdown",
   "metadata": {
    "nbgrader": {
     "grade": false,
     "grade_id": "cell-c6b852cd7e7c1c24",
     "locked": true,
     "schema_version": 3,
     "solution": false,
     "task": false
    }
   },
   "source": [
    "# AVL-Tree\n",
    "\n",
    "Der folgende Code implementiert teilweise einen AVL-Tree.\n",
    "\n",
    "Ihre Aufgabe ist es die fehlenden Funktionen `get_balance()`, `rotate_left()`, `rotate_right()` und `rebalance()` zu implementieren. \n",
    "\n",
    "Der zur Verfügung gestellte Code definiert zunächst die Klass `Node`, sowie die Funktionen `print_tree()`, `get_height()` und `insert()`. Abweichend von der Vorlesung werden wir hier zur Vereinfachung der Implementierung keinen Parent-Pointer nutzen. Zudem speichert jeder Knoten seine Höhe anstatt seines Ungleichgewichts."
   ]
  },
  {
   "cell_type": "code",
   "execution_count": 72,
   "metadata": {},
   "outputs": [],
   "source": [
    "class Node():\n",
    "    def __init__(self, key, left=None, right=None, height=0):\n",
    "        self.key = key\n",
    "        self.left = left\n",
    "        self.right = right\n",
    "        self.height = height\n",
    "\n",
    "    def __repr__(self):\n",
    "        return str(f\"({self.left}, {self.key}|{self.height}, {self.right})\")\n",
    "\n",
    "\n",
    "def print_tree(node, level=0):\n",
    "    \"\"\" Generate a very basic graphical output of the tree. \"\"\"\n",
    "    if node is not None:\n",
    "        print_tree(node.right, level + 1)\n",
    "        print(f\"{' ' * 4 * level}->  {str(node.key)}|{node.height}\")\n",
    "        print_tree(node.left, level + 1)\n",
    "\n",
    "\n",
    "def get_height(node):\n",
    "    \"\"\" Return the height of the tree. \"\"\"\n",
    "    if node is None:\n",
    "        return -1\n",
    "    return node.height\n",
    "\n",
    "\n",
    "def insert(key, node=None):\n",
    "    \"\"\" Inserts a node into the given binary search tree and rebalances it afterwards. \"\"\"\n",
    "    if node is None:\n",
    "        return Node(key)\n",
    "    elif key < node.key:\n",
    "        node.left = insert(key, node.left)\n",
    "    elif key > node.key:\n",
    "        node.right = insert(key, node.right)\n",
    "    else:  # key == node.key\n",
    "        pass\n",
    "\n",
    "    node.height = 1 + max(get_height(node.left), get_height(node.right))\n",
    "    return rebalance(key, node)\n",
    "\n",
    "def insert_list(key_list, node=None):\n",
    "    \"\"\" Inserts a list of nodes into the given binary search tree and rebalances it after every insertion. \"\"\"\n",
    "    for key in key_list:\n",
    "        node = insert(key, node)\n",
    "    return node"
   ]
  },
  {
   "cell_type": "markdown",
   "metadata": {},
   "source": [
    "## a) get_balance() - 2P.\n",
    "\n",
    "Um die Berechnung des Ungleichgewichts bei jedem Einfügen zu vereinfachen, speichern wir in jedem Knoten die Höhe des Baumes. Dadurch müssen wir jedoch das Ungleichgewicht berechnen können. Implementieren Sie hierzu die Funktion `get_balance()`, die das Ungleichgewicht berechnet. \n",
    "\n",
    "Das Ungleichgewicht berechnet sich aus der **Differenz der Höhe des linken und des rechten Teilbaums**. Ist die Höhe des linken Teilbaums also kleiner als die Höhe des rechten, dann ist das Ergebnis negativ, sonst positiv. Sie könnten die Funktion `get_height()` nutzen, um die Höhe eines Teilbaums zu erhalten.\n",
    "\n",
    "Hinweis: Falls der Knoten, dessen Ungleichgewicht Sie berechnen sollen nicht existiert gibt die Funktion `get_balance()` `0` zurück."
   ]
  },
  {
   "cell_type": "code",
   "execution_count": 73,
   "metadata": {},
   "outputs": [],
   "source": [
    "def get_balance(node):\n",
    "    \"\"\" Return the balance of the tree represented by `node`. \"\"\"\n",
    "    ### BEGIN SOLUTION\n",
    "    if node is None:\n",
    "        return 0\n",
    "    return get_height(node.left) - get_height(node.right)\n",
    "    ### END SOLUTION"
   ]
  },
  {
   "cell_type": "markdown",
   "metadata": {},
   "source": [
    "## a) Tests"
   ]
  },
  {
   "cell_type": "code",
   "execution_count": 74,
   "metadata": {},
   "outputs": [],
   "source": [
    "# unittests\n",
    "assert_equal(get_balance(None), 0)\n",
    "assert_equal(get_balance(Node(2)), 0)\n",
    "assert_equal(get_balance(Node(2, left=Node(1), height=1)), 1)\n",
    "assert_equal(get_balance(Node(2, right=Node(2), height=1)), -1)\n",
    "assert_equal(get_balance(Node(2, left=Node(1),  right=Node(2), height=1)), 0)\n",
    "assert_equal(get_balance(Node(3, height=3, left=Node(2, height=2, left=Node(1, height=1, left=Node(0))))), 3)\n",
    "assert_equal(get_balance(Node(3, height=3, right=Node(2, height=2, right=Node(1, height=1, right=Node(0))))), -3)"
   ]
  },
  {
   "cell_type": "code",
   "execution_count": 75,
   "metadata": {},
   "outputs": [],
   "source": [
    "# hidden tests\n",
    "### BEGIN HIDDEN TESTS\n",
    "def insert_bst(key, node=None):\n",
    "    \"\"\" Inserts a node into the given binary search tree. \"\"\"\n",
    "    if node is None:\n",
    "        return Node(key)\n",
    "    elif key < node.key:\n",
    "        node.left = insert_bst(key, node.left)\n",
    "    elif key > node.key:\n",
    "        node.right = insert_bst(key, node.right)\n",
    "    else:  # key == node.key\n",
    "        pass\n",
    "\n",
    "    node.height = 1 + max(get_height(node.left), get_height(node.right))\n",
    "    return node\n",
    "\n",
    "def insert_list_bst(key_list, node=None):\n",
    "    \"\"\" Inserts a list of nodes into the given binary search tree. \"\"\"\n",
    "    for key in key_list:\n",
    "        node = insert_bst(key, node)\n",
    "    return node\n",
    "### END HIDDEN TESTS\n"
   ]
  },
  {
   "cell_type": "code",
   "execution_count": 76,
   "metadata": {},
   "outputs": [],
   "source": [
    "# hidden tests\n",
    "### BEGIN HIDDEN TESTS\n",
    "#unbalanced on the right side\n",
    "tree_1 = insert_list_bst([1, 2, 3, 4, 5])\n",
    "assert_equal(get_balance(tree_1), -4)\n",
    "### END HIDDEN TESTS"
   ]
  },
  {
   "cell_type": "code",
   "execution_count": 77,
   "metadata": {},
   "outputs": [],
   "source": [
    "# hidden tests\n",
    "### BEGIN HIDDEN TESTS\n",
    "#balanced\n",
    "tree_2 = insert_list_bst([3, 4, 5, 2, 1])\n",
    "assert_equal(get_balance(tree_2), 0)\n",
    "### END HIDDEN TESTS"
   ]
  },
  {
   "cell_type": "code",
   "execution_count": 78,
   "metadata": {},
   "outputs": [],
   "source": [
    "# hidden tests\n",
    "### BEGIN HIDDEN TEST\n",
    "#unbalances on the left side\n",
    "tree_3 = insert_list_bst([5, 4, 3, 2, 1, 0])\n",
    "assert_equal(get_balance(tree_3), 5)\n",
    "### END HIDDEN TESTS"
   ]
  },
  {
   "cell_type": "markdown",
   "metadata": {},
   "source": [
    "## b) rotate_left() - 6P."
   ]
  },
  {
   "cell_type": "markdown",
   "metadata": {},
   "source": [
    "Um aus einem unbalancierten Baum einen balancierten Baum zu machen, müssen wir rotieren können. Zunächst möchten wir die Rotation nach links implementieren. Schreiben Sie die Funktion `rotate_left()`, die **eine Linksrotation durchführt** und den **neuen Wurzelknoten des Teilbaums zurückgibt**.\n",
    "\n",
    "Sie können die untenstehende Abbildung als Hilfe nutzen. Der neue Wurzelknoten der zurückgegeben wird ist `y`.\n",
    "\n",
    "```\n",
    "Vorher:                     Nachher:\n",
    "        ->  ...                     \n",
    "    ->  y                           ->  ...\n",
    "        ->  z               ->  y \n",
    "->  node                            ->  z\n",
    "    ->  ...                     ->  node\n",
    "                                    ->  ...\n",
    "```\n",
    "\n",
    "Bitte aktualisieren Sie auch die in den Knoten gespeicherte Höhe entsprechend der durchgeführten Rotation. Die Höhe eines Nodes errechnet sich aus **1 + max(Höhe linker Teilbaum, Höhe rechter Teilbaum)**. Hinweis: Überlegen Sie sich zunächst welche Teilbäume ihre Höhe geändert haben und beachten Sie die Abhängigkeiten in der Berechnung der Höhe."
   ]
  },
  {
   "cell_type": "code",
   "execution_count": 79,
   "metadata": {},
   "outputs": [],
   "source": [
    "def rotate_left(node):\n",
    "    \"\"\" Perform a rotation to left of the tree based on `node`. \"\"\"\n",
    "    ### BEGIN SOLUTION\n",
    "    y = node.right\n",
    "    z = y.left\n",
    "\n",
    "    y.left = node\n",
    "    node.right = z\n",
    "\n",
    "    node.height = 1 + max(get_height(node.left), get_height(node.right))\n",
    "    y.height    = 1 + max(get_height(y.left),    get_height(y.right))\n",
    "\n",
    "    return y\n",
    "    ### END SOLUTION"
   ]
  },
  {
   "cell_type": "markdown",
   "metadata": {},
   "source": [
    "## b) Tests"
   ]
  },
  {
   "cell_type": "code",
   "execution_count": 80,
   "metadata": {},
   "outputs": [],
   "source": [
    "# unittests\n",
    "for h in [1, 3, 6]:\n",
    "    tree_1 = Node(\"n\", height=h+3, left=Node(\".\", height=h), right=Node(\"y\", height=h+2, left=Node(\"z\", height=h), right=Node(\".\", height=h+1)))\n",
    "    tree_1 = rotate_left(tree_1)\n",
    "    assert_equal(str(tree_1), f\"(((None, .|{h}, None), n|{h+1}, (None, z|{h}, None)), y|{h+2}, (None, .|{h+1}, None))\")"
   ]
  },
  {
   "cell_type": "markdown",
   "metadata": {},
   "source": [
    "## c) rotate_right() - 6P.\n",
    "\n",
    "Äquivalent möchten wir die Rotation nach rechts implementieren. Implementieren Sie dazu die Funktion `rotate_right()` die **eine Rechtsrotation der Knoten durchführt** und den **neuen Wurzelknoten des Baumes zurückgibt**. Aktualisieren Sie anschließen die Höhe der Teilbäume. Sie können die untenstehende Abbildung als Hilfestellung in der Implementierung nutzen.\n",
    "\n",
    "```\n",
    "Vorher:                     Nachher:\n",
    "                                    ->  ...\n",
    "        ->  ...                 ->  node\n",
    "->  node                            ->  z\n",
    "        ->  z               ->  y\n",
    "    >  y                        ->  ...\n",
    "        ->  ...\n",
    "```\n",
    "\n",
    "Bitte beachten Sie, die selben Hinweise, wie in der Funktion `rotate_left()`."
   ]
  },
  {
   "cell_type": "code",
   "execution_count": 81,
   "metadata": {},
   "outputs": [],
   "source": [
    "def rotate_right(node):\n",
    "    \"\"\" Perform a rotation to right of the tree based on `node`. \"\"\"\n",
    "    ### BEGIN SOLUTION\n",
    "    y = node.left\n",
    "    z = y.right\n",
    "\n",
    "    y.right = node\n",
    "    node.left = z\n",
    "\n",
    "    node.height = 1 + max(get_height(node.left), get_height(node.right))\n",
    "    y.height    = 1 + max(get_height(y.left),    get_height(y.right))\n",
    "\n",
    "    return y\n",
    "    ### END SOLUTION"
   ]
  },
  {
   "cell_type": "markdown",
   "metadata": {},
   "source": [
    "## c) Tests"
   ]
  },
  {
   "cell_type": "code",
   "execution_count": 82,
   "metadata": {},
   "outputs": [],
   "source": [
    "# unittests\n",
    "for h in [1, 3, 6]:\n",
    "    tree_1 = Node(\"n\", height=h+3, left=Node(\"y\", height=h+2, left=Node(\".\", height=h+1), right=Node(\"z\", height=h),), right=Node(\".\", height=h))\n",
    "    tree_1 = rotate_right(tree_1)\n",
    "    assert_equal(str(tree_1), f\"((None, .|{h+1}, None), y|{h+2}, ((None, z|{h}, None), n|{h+1}, (None, .|{h}, None)))\")"
   ]
  },
  {
   "cell_type": "markdown",
   "metadata": {},
   "source": [
    "## d) rebalance() - 6P.\n",
    "\n",
    "Implementieren Sie die Funktion `rebalance()`, die nach jedem Aufruf von `insert()` aufgerufen wird, um den neuen binären Suchbaum zu balancieren. Geben Sie am Ende der Implementierung den neuen Wurzelknoten des balancierten Teilbaums zurück. \n",
    "\n",
    "Bitte beachten Sie in der Implementierung die vier Fälle die Auftreten können:\n",
    "- Rotation links\n",
    "- Rotation rechts\n",
    "- Doppelte Rotation links / rechts\n",
    "- Deppelte Rotation rechts / links\n",
    "\n",
    "Eine Balancierung der Teilbäume ist nur dann notwendig, wenn sich deren Höhe um mehr als eins unterscheidet. Sie können hierzu die zuvor implementierte Funktion `get_balance()` nutzen, um das Ungleichgewicht zu bestimmen.\n",
    "\n",
    "Falls Sie eine der vorherigen Teilaufgaben nicht lösen konnten, können Sie trotzdem unter der Annahme arbeiten, dass die Funktionen zur Verfügung stehen."
   ]
  },
  {
   "cell_type": "code",
   "execution_count": 83,
   "metadata": {},
   "outputs": [],
   "source": [
    "def rebalance(key, node):\n",
    "    ### BEGIN SOLUTION\n",
    "    b = get_balance(node)\n",
    "    if b > 1:\n",
    "        if key < node.left.key:\n",
    "            node = rotate_right(node)\n",
    "        else:\n",
    "            node.left = rotate_left(node.left)\n",
    "            node = rotate_right(node)\n",
    "    elif b < -1:\n",
    "        if key > node.right.key:\n",
    "            node = rotate_left(node)\n",
    "        else:\n",
    "            node.right = rotate_right(node.right)\n",
    "            node = rotate_left(node)\n",
    "\n",
    "    return node\n",
    "    ### END SOLUTION"
   ]
  },
  {
   "cell_type": "markdown",
   "metadata": {},
   "source": [
    "## d) Tests"
   ]
  },
  {
   "cell_type": "code",
   "execution_count": 84,
   "metadata": {},
   "outputs": [
    {
     "name": "stdout",
     "output_type": "stream",
     "text": [
      "Node List:\n",
      " [53, 85, 50, 17, 96, 79, 61, 66, 95, 22, 44, 92, 39, 80, 87] \n",
      "AVL-Tree:\n",
      "            ->  96|0\n",
      "        ->  95|2\n",
      "            ->  92|1\n",
      "                ->  87|0\n",
      "    ->  85|3\n",
      "                ->  80|0\n",
      "            ->  79|1\n",
      "        ->  66|2\n",
      "            ->  61|0\n",
      "->  53|4\n",
      "            ->  50|0\n",
      "        ->  44|1\n",
      "            ->  39|0\n",
      "    ->  22|2\n",
      "        ->  17|0\n"
     ]
    }
   ],
   "source": [
    "# insert random nodes into a tree and check manually\n",
    "node_list = [randint(10, 99) for _ in range(15)]\n",
    "print(\"Node List:\\n\", node_list, \"\\nAVL-Tree:\")\n",
    "print_tree(insert_list(node_list))"
   ]
  },
  {
   "cell_type": "code",
   "execution_count": 85,
   "metadata": {},
   "outputs": [],
   "source": [
    "#hidden tests\n",
    "### BEGIN HIDDEN TESTS\n",
    "# Use our own implementation, if students did not implement the functions correctly.\n",
    "if False:\n",
    "    def get_balance(node):\n",
    "        if node is None:\n",
    "            return 0\n",
    "        return get_height(node.left) - get_height(node.right)\n",
    "\n",
    "    def rotate_left(node):\n",
    "        y = node.right\n",
    "        z = y.left\n",
    "\n",
    "        y.left = node\n",
    "        node.right = z\n",
    "\n",
    "        node.height = 1 + max(get_height(node.left), get_height(node.right))\n",
    "        y.height    = 1 + max(get_height(y.left),    get_height(y.right))\n",
    "\n",
    "        return y\n",
    "\n",
    "    def rotate_right(node):\n",
    "        y = node.left\n",
    "        z = y.right\n",
    "\n",
    "        y.right = node\n",
    "        node.left = z\n",
    "\n",
    "        node.height = 1 + max(get_height(node.left), get_height(node.right))\n",
    "        y.height    = 1 + max(get_height(y.left),    get_height(y.right))\n",
    "\n",
    "        return y\n",
    "\n",
    "### END HIDDEN TESTS"
   ]
  },
  {
   "cell_type": "code",
   "execution_count": 86,
   "metadata": {},
   "outputs": [],
   "source": [
    "#hidden tests\n",
    "### BEGIN HIDDEN TESTS\n",
    "#already balanced\n",
    "tree = insert_list([1, 2, 0])\n",
    "assert_equal(str(tree), f\"((None, 0|0, None), 1|1, (None, 2|0, None))\")\n",
    "### END HIDDEN TESTS"
   ]
  },
  {
   "cell_type": "code",
   "execution_count": 87,
   "metadata": {},
   "outputs": [],
   "source": [
    "#hidden tests\n",
    "### BEGIN HIDDEN TESTS\n",
    "#rotate right\n",
    "tree = insert_list([2, 1, 0])\n",
    "assert_equal(str(tree), f\"((None, 0|0, None), 1|1, (None, 2|0, None))\")\n",
    "### END HIDDEN TESTS"
   ]
  },
  {
   "cell_type": "code",
   "execution_count": 88,
   "metadata": {},
   "outputs": [],
   "source": [
    "#hidden tests\n",
    "### BEGIN HIDDEN TESTS\n",
    "#rotate left\n",
    "tree = insert_list([0, 1, 2])\n",
    "assert_equal(str(tree), f\"((None, 0|0, None), 1|1, (None, 2|0, None))\")\n",
    "### END HIDDEN TESTS"
   ]
  },
  {
   "cell_type": "code",
   "execution_count": 89,
   "metadata": {},
   "outputs": [],
   "source": [
    "#hidden tests\n",
    "### BEGIN HIDDEN TESTS\n",
    "#rotate twice l - r\n",
    "tree = insert_list([2, 0,  1, 4])\n",
    "assert_equal(str(tree), f\"((None, 0|0, None), 1|2, (None, 2|1, (None, 4|0, None)))\")\n",
    "### END HIDDEN TESTS"
   ]
  },
  {
   "cell_type": "code",
   "execution_count": 90,
   "metadata": {},
   "outputs": [],
   "source": [
    "#hidden tests\n",
    "### BEGIN HIDDEN TESTS\n",
    "#rotate twice r - l\n",
    "tree = insert_list([0, 4, 2, 1])\n",
    "assert_equal(str(tree), f\"((None, 0|1, (None, 1|0, None)), 2|2, (None, 4|0, None))\")\n",
    "### END HIDDEN TESTS"
   ]
  },
  {
   "cell_type": "code",
   "execution_count": 91,
   "metadata": {},
   "outputs": [],
   "source": [
    "#hidden tests\n",
    "### BEGIN HIDDEN TESTS\n",
    "#general\n",
    "tree = insert_list([50, 88, 69, 88, 80, 37, 74, 85, 82, 76, 91, 71, 38, 34, 27])\n",
    "assert_equal(str(tree), f\"(((((None, 27|0, None), 34|1, (None, 37|0, None)), 38|2, (None, 50|0, None)), 69|3, ((None, 71|0, None), 74|1, (None, 76|0, None))), 80|4, ((None, 82|0, None), 85|2, (None, 88|1, (None, 91|0, None))))\")\n",
    "### END HIDDEN TESTS"
   ]
  },
  {
   "cell_type": "markdown",
   "metadata": {
    "nbgrader": {
     "grade": false,
     "grade_id": "cell-1b974b740c5bee36",
     "locked": true,
     "schema_version": 3,
     "solution": false,
     "task": false
    }
   },
   "source": [
    "## Jupyter Notebook Stolperfalle\n",
    "Bei der Benutzung von Jupyter Notebooks, wird der globale Zustand aller Variablen zwischen der Ausführung von verschiedenen Zellen erhalten. Dies ist auch der Fall, wenn Zellen gelöscht oder hinzugefügt werden.\n",
    "Um sicher zu gehen, dass nicht ausversehen notwendige Variablen überschrieben oder gelöscht wurden, kann der Befehl `Kernel -> Restart & Run All` ausgeführt werden."
   ]
  }
 ],
 "metadata": {
  "celltoolbar": "Create Assignment",
  "interpreter": {
   "hash": "31f2aee4e71d21fbe5cf8b01ff0e069b9275f58929596ceb00d14d90e3e16cd6"
  },
  "kernelspec": {
   "display_name": "Python 3.9.2 64-bit",
   "language": "python",
   "name": "python3"
  },
  "language_info": {
   "codemirror_mode": {
    "name": "ipython",
    "version": 3
   },
   "file_extension": ".py",
   "mimetype": "text/x-python",
   "name": "python",
   "nbconvert_exporter": "python",
   "pygments_lexer": "ipython3",
   "version": "3.9.2"
  },
  "varInspector": {
   "cols": {
    "lenName": 16,
    "lenType": 16,
    "lenVar": 40
   },
   "kernels_config": {
    "python": {
     "delete_cmd_postfix": "",
     "delete_cmd_prefix": "del ",
     "library": "var_list.py",
     "varRefreshCmd": "print(var_dic_list())"
    },
    "r": {
     "delete_cmd_postfix": ") ",
     "delete_cmd_prefix": "rm(",
     "library": "var_list.r",
     "varRefreshCmd": "cat(var_dic_list()) "
    }
   },
   "types_to_exclude": [
    "module",
    "function",
    "builtin_function_or_method",
    "instance",
    "_Feature"
   ],
   "window_display": false
  }
 },
 "nbformat": 4,
 "nbformat_minor": 4
}
